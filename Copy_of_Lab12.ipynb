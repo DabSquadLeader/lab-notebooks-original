{
  "cells": [
    {
      "cell_type": "markdown",
      "metadata": {
        "id": "view-in-github",
        "colab_type": "text"
      },
      "source": [
        "<a href=\"https://colab.research.google.com/github/DabSquadLeader/lab-notebooks-original/blob/main/Copy_of_Lab12.ipynb\" target=\"_parent\"><img src=\"https://colab.research.google.com/assets/colab-badge.svg\" alt=\"Open In Colab\"/></a>"
      ]
    },
    {
      "cell_type": "markdown",
      "metadata": {
        "id": "jyQP-9Fni5Ue"
      },
      "source": [
        "<a href=\"https://colab.research.google.com/github/LMU-CMSI-1010/lab-notebooks-original/blob/main/Lab12.ipynb\" target=\"_parent\"><img src=\"https://colab.research.google.com/assets/colab-badge.svg\" alt=\"Open In Colab\"/></a>"
      ]
    },
    {
      "cell_type": "markdown",
      "metadata": {
        "id": "9aXfrLXg9seM"
      },
      "source": [
        "# Lab 12 Recursion Recursion\n",
        "This lab will give you the opportunity to write more recursive functions and to trace them.\n",
        "\n",
        "\n"
      ]
    },
    {
      "cell_type": "code",
      "source": [
        "tup = (5,2,3)\n",
        "\n",
        "sorted(tup) # this will sort tup\n",
        "\n",
        "len(tup) #this is acceptable tuple syntax\n",
        "\n",
        "tup[0] = 'new value'\n"
      ],
      "metadata": {
        "colab": {
          "base_uri": "https://localhost:8080/",
          "height": 219
        },
        "id": "drVo4rUBQd3z",
        "outputId": "184a7a95-8519-4544-82f7-539edf5ff83d"
      },
      "execution_count": null,
      "outputs": [
        {
          "output_type": "error",
          "ename": "TypeError",
          "evalue": "ignored",
          "traceback": [
            "\u001b[0;31m---------------------------------------------------------------------------\u001b[0m",
            "\u001b[0;31mTypeError\u001b[0m                                 Traceback (most recent call last)",
            "\u001b[0;32m<ipython-input-60-141a66171ad7>\u001b[0m in \u001b[0;36m<cell line: 7>\u001b[0;34m()\u001b[0m\n\u001b[1;32m      5\u001b[0m \u001b[0mlen\u001b[0m\u001b[0;34m(\u001b[0m\u001b[0mtup\u001b[0m\u001b[0;34m)\u001b[0m \u001b[0;31m#this is acceptable tuple syntax\u001b[0m\u001b[0;34m\u001b[0m\u001b[0;34m\u001b[0m\u001b[0m\n\u001b[1;32m      6\u001b[0m \u001b[0;34m\u001b[0m\u001b[0m\n\u001b[0;32m----> 7\u001b[0;31m \u001b[0mtup\u001b[0m\u001b[0;34m[\u001b[0m\u001b[0;36m0\u001b[0m\u001b[0;34m]\u001b[0m \u001b[0;34m=\u001b[0m \u001b[0;34m'new value'\u001b[0m\u001b[0;34m\u001b[0m\u001b[0;34m\u001b[0m\u001b[0m\n\u001b[0m",
            "\u001b[0;31mTypeError\u001b[0m: 'tuple' object does not support item assignment"
          ]
        }
      ]
    },
    {
      "cell_type": "markdown",
      "metadata": {
        "id": "NeQK-bkp3AKI"
      },
      "source": [
        "## The Fibonacci Sequence\n",
        "A **sequence** is an ordered list of objects. In this case we will look at a sequence of numbers, the **Fibonacci Sequence**. We use variables such as f<sub>1</sub>, f<sub>2</sub>, f<sub>3</sub>, ... to mean the first number in the sequence, second number in the sequence, the third number in the sequence, and so forth.\n",
        "\n",
        "The **Fibonacci sequence** has the special relationship called a **recurrence** where we define a number in the sequence by the sum of the two numbers in the sequence before it. Let's look at the sequence now: <br>\n",
        "f<sub>1</sub> = 1, f<sub>2</sub> = 1, f<sub>3</sub> = 2, f<sub>4</sub> = 3, f<sub>5</sub> = 5, f<sub>6</sub> = 8, ...<br>\n",
        "Can you tell what f<sub>7</sub> should be? Let's look at the pattern. <br>\n",
        "We are given that f<sub>1</sub> is 1 and f<sub>2</sub> is 1. Those are the base cases. <br>\n",
        "Now look at the other terms: <br>\n",
        "f<sub>3</sub> = 2 = f<sub>1</sub> + f<sub>2</sub> = 1 + 1 <br>\n",
        "f<sub>4</sub> = 3 = f<sub>2</sub> + f<sub>3</sub> = 1 + 2 <br>\n",
        "f<sub>5</sub> = 5 = f<sub>3</sub> + f<sub>4</sub> = 2 + 3 <br>\n",
        "f<sub>6</sub> = 8 = f<sub>4</sub> + f<sub>5</sub> = 3 + 5 <br>\n",
        "If we continue this pattern for f<sub>7</sub> <br>\n",
        "f<sub>7</sub> = f<sub>5</sub> + f<sub>6</sub> = 5 + 8 = 13 <br>\n",
        "\n",
        "More generally, the n-th Fibonacci number equals the (n–2)-nd Fibonacci number plus the (n–1)-st Fibonacci number: <br>\n",
        "f<sub>n</sub> = f<sub>n–2</sub> + f<sub>n–1</sub> <br>\n",
        "\n",
        "**Do this:** In the following cell, you will **complete code to compute the n-th Fibonacci number**."
      ]
    },
    {
      "cell_type": "code",
      "execution_count": null,
      "metadata": {
        "id": "9sggpWEB33fV"
      },
      "outputs": [],
      "source": [
        "\n",
        "def fibonacci(n):\n",
        "\n",
        "    finalNum = 0\n",
        "    if n <= 0:\n",
        "        print('n must be greater than 0')\n",
        "        return None\n",
        "    if n == 1 or n == 2:\n",
        "        return 1\n",
        "    if n > 2:\n",
        "        finalNum = fibonacci(n-2) + fibonacci(n-1)\n",
        "        return finalNum\n",
        "\n",
        "\n",
        "\n",
        "\n",
        "assert(fibonacci(7) == 13)\n",
        "assert(fibonacci(5) == 5)"
      ]
    },
    {
      "cell_type": "markdown",
      "metadata": {
        "id": "3NnTCLBI5nsb"
      },
      "source": [
        "### Tracing Fibonacci\n",
        "Now take a moment to see what is happening when you call your function `fibonacci(4)` in order to return the fourth Fibonacci number.\n",
        "\n",
        "**Do this:** Visualize the sequence of function calls made by your function when you call `fibonacci(4)` to return the fourth Fibonacci number either by hand or through PythonTutor. **Upload the resulting stack diagram to your lab notebooks repository and supply a plain language explanation of what is happening in the text box below:**\n",
        "\n"
      ]
    },
    {
      "cell_type": "markdown",
      "metadata": {
        "id": "AGLvvN4FQMcz"
      },
      "source": [
        "***\n",
        "**Do this:**\n",
        "> Explain your uploaded stack diagram here.\n",
        "\n",
        "The function detects whether n is 0, 1, or 2, which is not true since it is 4. Because n is greater than 2, the function executes itself using recursion and adding the function at n-2 with n-1. It continues this recursion unti n reaches 2, which eventually ends the recursion.\n",
        "\n",
        "\n",
        "***"
      ]
    },
    {
      "cell_type": "markdown",
      "metadata": {
        "id": "VwQPNN6e6QI_"
      },
      "source": [
        "### Print a list backwards iteratively\n",
        "Given a list, **write an *iterative function* to print the list backwards one element at a time.**\n",
        "*Remember that iterative means to use a loop.*\n",
        "\n",
        "For example, if your function is given the list `[4, 7, 9, 2]`, your function should print\n",
        "```\n",
        "2 9 7 4\n",
        "```\n",
        "**Do this:** Complete the following function, `iterative_print_backwards`"
      ]
    },
    {
      "cell_type": "code",
      "execution_count": null,
      "metadata": {
        "colab": {
          "base_uri": "https://localhost:8080/"
        },
        "id": "rz-jwUKp6cUJ",
        "outputId": "95d06480-5d36-4973-8e24-885205d1df49"
      },
      "outputs": [
        {
          "output_type": "stream",
          "name": "stdout",
          "text": [
            "2\n",
            "\n",
            "9\n",
            "\n",
            "7\n",
            "\n",
            "4\n"
          ]
        }
      ],
      "source": [
        "# TODO: iterative_print_backwards: given a list, this function prints\n",
        "# the list backwards one item at a time followed by a new line.\n",
        "# This function should not return anything.\n",
        "\n",
        "def iterative_print_backwards(test):\n",
        "    i = 2\n",
        "    test = test[::-1]\n",
        "    for num in test:\n",
        "      print(num)\n",
        "      if len(test) < i:\n",
        "        break\n",
        "      else:\n",
        "        print()\n",
        "        i += 1\n",
        "\n",
        "# Test the function by making function calls\n",
        "# You do not need to change the following line of code\n",
        "# You can add more function calls to test your function\n",
        "iterative_print_backwards([4, 7, 9, 2])"
      ]
    },
    {
      "cell_type": "markdown",
      "metadata": {
        "id": "90Zthmy_S6AS"
      },
      "source": [
        "### Print a list backwards recursively\n",
        "Given a list, **write a *recursive function* to print the list backwards one element at a time.**\n",
        "*Remember that **recursive** means that the function must call itself.*\n",
        "\n",
        "For example, if your function is given the list, `[4, 7, 9, 2]`, your function should print\n",
        "```\n",
        "2 9 7 4\n",
        "```\n",
        "**Do this:** Complete the following function, `recursive_print_backwards`"
      ]
    },
    {
      "cell_type": "code",
      "execution_count": null,
      "metadata": {
        "colab": {
          "base_uri": "https://localhost:8080/"
        },
        "id": "ew5_E0TaTJw3",
        "outputId": "e8198311-2277-4676-b5c5-788ba7844239"
      },
      "outputs": [
        {
          "output_type": "stream",
          "name": "stdout",
          "text": [
            "2\n",
            "9\n",
            "7\n",
            "4\n"
          ]
        }
      ],
      "source": [
        "# TODO: recursive_print_backwards: given a list, this function prints\n",
        "# the list backwards one item at a time followed by a new line.\n",
        "# This function should not return anything.\n",
        "\n",
        "def recursive_print_backwards(test):\n",
        "\n",
        "    length = len(test)\n",
        "    if length == 0:\n",
        "        return\n",
        "\n",
        "    if length == 1:\n",
        "      print(test[0])\n",
        "    if length > 1:\n",
        "      print(test[-1])\n",
        "      recursive_print_backwards(test[:-1])\n",
        "\n",
        "\n",
        "# Test the function by making function calls\n",
        "# You do not need to change the following line of code\n",
        "# You can add more function calls to test your function\n",
        "recursive_print_backwards([4, 7, 9, 2])"
      ]
    },
    {
      "cell_type": "markdown",
      "metadata": {
        "id": "0PA2HcBPQDrf"
      },
      "source": [
        "**Do this:**  Visualize the sequence of function calls made `recursive_print_backwards` either by hand or through PythonTutor. Upload the resulting stack diagram to your lab notebooks repository and supply a plain language explanation of what is happening in the text box below:"
      ]
    },
    {
      "cell_type": "markdown",
      "metadata": {
        "id": "lPupPwlKQdbv"
      },
      "source": [
        "***\n",
        "\n",
        "> Explain your uploaded stack diagram here.\n",
        "\n",
        "The function determines if the length is equal to 0 or 1, and since it is not, the function prints the last item in the list. Then, it uses recursion to utilize the original list minus the last item. This repeats until the length is 1, where it prints the final number, then the function ends after the length reaches 0.\n",
        "\n",
        "***"
      ]
    },
    {
      "cell_type": "markdown",
      "metadata": {
        "id": "dKL0LYd-E4JB"
      },
      "source": [
        "### (Optional) Reflections\n",
        "Add a text cell below to answer the following questions:\n",
        "1. What do you feel more confident about after completing this lab?\n",
        "2. What do you feel you can use more help with after completing this lab?\n",
        "3. Do you have any constructive suggestions on how we can help you or improve this lab?"
      ]
    },
    {
      "cell_type": "markdown",
      "metadata": {
        "id": "gB1aHDpyFYey"
      },
      "source": [
        "### Save your work to GitHub\n",
        "Please save this notebook to your lab repository."
      ]
    }
  ],
  "metadata": {
    "kernelspec": {
      "display_name": "Python 3",
      "language": "python",
      "name": "python3"
    },
    "language_info": {
      "codemirror_mode": {
        "name": "ipython",
        "version": 3
      },
      "file_extension": ".py",
      "mimetype": "text/x-python",
      "name": "python",
      "nbconvert_exporter": "python",
      "pygments_lexer": "ipython3",
      "version": "3.8.5"
    },
    "colab": {
      "provenance": [],
      "include_colab_link": true
    }
  },
  "nbformat": 4,
  "nbformat_minor": 0
}